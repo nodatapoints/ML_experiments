{
 "cells": [
  {
   "cell_type": "markdown",
   "metadata": {},
   "source": [
    "# simple CNN for the MNIST data set\n",
    "\n",
    "This code will train a CNN on the MNIST data, and output a prediction for `input.bmp`. The image is in grayscale (white on black) and must have a size of 28x28."
   ]
  },
  {
   "cell_type": "code",
   "execution_count": 1,
   "metadata": {},
   "outputs": [
    {
     "name": "stderr",
     "output_type": "stream",
     "text": [
      "Using TensorFlow backend.\n"
     ]
    }
   ],
   "source": [
    "import numpy as np\n",
    "import matplotlib.pyplot as plt\n",
    "import idx2numpy\n",
    "\n",
    "import keras\n",
    "from keras.models import Sequential\n",
    "from keras.layers import Dense, Activation, Dropout, Conv2D, MaxPool2D, Flatten\n",
    "\n",
    "%matplotlib inline"
   ]
  },
  {
   "cell_type": "code",
   "execution_count": 2,
   "metadata": {},
   "outputs": [],
   "source": [
    "# The shape of the input data for the first convolutional layer\n",
    "\n",
    "input_shape = 28, 28, 1\n",
    "# height, width, channels"
   ]
  },
  {
   "cell_type": "markdown",
   "metadata": {},
   "source": [
    "## load training data"
   ]
  },
  {
   "cell_type": "code",
   "execution_count": 3,
   "metadata": {
    "scrolled": true
   },
   "outputs": [],
   "source": [
    "labels = idx2numpy.convert_from_file('train-labels.idx')\n",
    "images = idx2numpy.convert_from_file('train-images.idx')\n",
    "\n",
    "x_train = images.reshape((-1, ) + input_shape)\n",
    "y_train = keras.utils.to_categorical(labels)"
   ]
  },
  {
   "cell_type": "markdown",
   "metadata": {},
   "source": [
    "## load test data"
   ]
  },
  {
   "cell_type": "code",
   "execution_count": 4,
   "metadata": {},
   "outputs": [],
   "source": [
    "test_labels = idx2numpy.convert_from_file('t10k-labels.idx')\n",
    "test_images = idx2numpy.convert_from_file('t10k-images.idx')\n",
    "\n",
    "x_test = test_images.reshape((-1, ) + input_shape)\n",
    "y_test = keras.utils.to_categorical(test_labels)\n",
    "\n",
    "# use first 1000 test pairs for validation\n",
    "x_val, y_val = x_test[:1000], y_test[:1000]"
   ]
  },
  {
   "cell_type": "markdown",
   "metadata": {},
   "source": [
    "## construct model"
   ]
  },
  {
   "cell_type": "code",
   "execution_count": 5,
   "metadata": {},
   "outputs": [],
   "source": [
    "model = Sequential()\n",
    "\n",
    "# conv layers\n",
    "model.add(Conv2D(64, (5, 5), input_shape=input_shape, activation='relu'))\n",
    "model.add(MaxPool2D((2, 2)))\n",
    "model.add(Dropout(.2))\n",
    "model.add(Conv2D(64, (3, 3), activation='relu'))\n",
    "model.add(MaxPool2D((2, 2)))\n",
    "\n",
    "model.add(Dropout(.4))\n",
    "model.add(Flatten())\n",
    "\n",
    "model.add(Dense(64, activation='relu'))\n",
    "model.add(Dense(10, activation='softmax'))\n",
    "\n",
    "model.compile(\n",
    "    optimizer='Adam',\n",
    "    loss='categorical_crossentropy',\n",
    "    metrics=['accuracy']\n",
    ")"
   ]
  },
  {
   "cell_type": "markdown",
   "metadata": {},
   "source": [
    "## training"
   ]
  },
  {
   "cell_type": "code",
   "execution_count": 6,
   "metadata": {
    "scrolled": true
   },
   "outputs": [
    {
     "name": "stdout",
     "output_type": "stream",
     "text": [
      "Train on 60000 samples, validate on 10000 samples\n",
      "Epoch 1/4\n",
      "60000/60000 [==============================] - 120s 2ms/step - loss: 2.9644 - acc: 0.7623 - val_loss: 0.0850 - val_acc: 0.9739\n",
      "Epoch 2/4\n",
      "60000/60000 [==============================] - 117s 2ms/step - loss: 0.1201 - acc: 0.9637 - val_loss: 0.0452 - val_acc: 0.9842\n",
      "Epoch 3/4\n",
      "60000/60000 [==============================] - 120s 2ms/step - loss: 0.0872 - acc: 0.9737 - val_loss: 0.0396 - val_acc: 0.9871\n",
      "Epoch 4/4\n",
      "60000/60000 [==============================] - 122s 2ms/step - loss: 0.0713 - acc: 0.9780 - val_loss: 0.0328 - val_acc: 0.9888\n"
     ]
    }
   ],
   "source": [
    "history = model.fit(\n",
    "    x_train,\n",
    "    y_train,\n",
    "    validation_data=(x_test, y_test),\n",
    "    batch_size=128,\n",
    "    epochs=4\n",
    ")"
   ]
  },
  {
   "cell_type": "code",
   "execution_count": 7,
   "metadata": {},
   "outputs": [
    {
     "name": "stdout",
     "output_type": "stream",
     "text": [
      "9000/9000 [==============================] - 5s 576us/step\n",
      "Accuracy on rest of test data: 0.99\n"
     ]
    }
   ],
   "source": [
    "_, acc = model.evaluate(x_test[1000:], y_test[1000:])\n",
    "print(f'Accuracy on rest of test data: {acc:.2f}')"
   ]
  },
  {
   "cell_type": "code",
   "execution_count": 9,
   "metadata": {},
   "outputs": [
    {
     "data": {
      "text/plain": [
       "<BarContainer object of 10 artists>"
      ]
     },
     "execution_count": 9,
     "metadata": {},
     "output_type": "execute_result"
    },
    {
     "data": {
      "image/png": "[encoded data removed]",
      "text/plain": [
       "<Figure size 432x288 with 2 Axes>"
      ]
     },
     "metadata": {
      "needs_background": "light"
     },
     "output_type": "display_data"
    }
   ],
   "source": [
    "from PIL import Image\n",
    "\n",
    "# load input image into array\n",
    "input_image = Image.open('input.bmp')\n",
    "array = np.array(input_image.getdata())[:,0]  # only use first channel\n",
    "\n",
    "x = np.arange(10) # digits\n",
    "y = model.predict(array.reshape((1,)+input_shape)).reshape(10) # categorical output\n",
    "\n",
    "# Draw input image\n",
    "plt.subplot(121)\n",
    "plt.imshow(array.reshape((28, 28)), cmap='Greys_r')\n",
    "\n",
    "# Show output\n",
    "plt.subplot(122)\n",
    "                  \n",
    "plt.xticks(x)\n",
    "plt.bar(x, y)"
   ]
  }
 ],
 "metadata": {
  "kernelspec": {
   "display_name": "Python 3",
   "language": "python",
   "name": "python3"
  },
  "language_info": {
   "codemirror_mode": {
    "name": "ipython",
    "version": 3
   },
   "file_extension": ".py",
   "mimetype": "text/x-python",
   "name": "python",
   "nbconvert_exporter": "python",
   "pygments_lexer": "ipython3",
   "version": "3.6.7"
  }
 },
 "nbformat": 4,
 "nbformat_minor": 2
}
