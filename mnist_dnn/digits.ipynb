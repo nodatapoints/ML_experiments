{
 "cells": [
  {
   "cell_type": "markdown",
   "metadata": {},
   "source": [
    "# simple DNN for the MNIST data set\n",
    "\n",
    "This code will train a 3-layer DNN on the MNIST data, and output a prediction for `input.bmp`. The image is in grayscale (white on black) and must have a size of 28x28."
   ]
  },
  {
   "cell_type": "code",
   "execution_count": 1,
   "metadata": {},
   "outputs": [
    {
     "name": "stderr",
     "output_type": "stream",
     "text": [
      "Using TensorFlow backend.\n"
     ]
    }
   ],
   "source": [
    "import numpy as np\n",
    "import matplotlib.pyplot as plt\n",
    "import idx2numpy\n",
    "\n",
    "import keras\n",
    "from keras.models import Sequential\n",
    "from keras.layers import Dense, Activation, Dropout\n",
    "\n",
    "%matplotlib inline"
   ]
  },
  {
   "cell_type": "markdown",
   "metadata": {},
   "source": [
    "## load training data"
   ]
  },
  {
   "cell_type": "code",
   "execution_count": 5,
   "metadata": {
    "scrolled": true
   },
   "outputs": [],
   "source": [
    "labels = idx2numpy.convert_from_file('train-labels.idx')\n",
    "images = idx2numpy.convert_from_file('train-images.idx')\n",
    "\n",
    "n_samples = len(labels)  # number of labeled pairs\n",
    "images_flat =images.reshape((n_samples, -1))"
   ]
  },
  {
   "cell_type": "markdown",
   "metadata": {},
   "source": [
    "## load test data"
   ]
  },
  {
   "cell_type": "code",
   "execution_count": 4,
   "metadata": {},
   "outputs": [],
   "source": [
    "test_labels = idx2numpy.convert_from_file('t10k-labels.idx')\n",
    "test_images = idx2numpy.convert_from_file('t10k-images.idx')\n",
    "\n",
    "n_samples = len(test_labels)\n",
    "test_images = test_images.reshape((n_samples, -1))  # flatten images for input layer"
   ]
  },
  {
   "cell_type": "markdown",
   "metadata": {},
   "source": [
    "## construct model"
   ]
  },
  {
   "cell_type": "code",
   "execution_count": 6,
   "metadata": {},
   "outputs": [],
   "source": [
    "model = Sequential()\n",
    "model.add(Dense(16, input_dim=784, activation='relu'))\n",
    "model.add(Dropout(.2))\n",
    "model.add(Dense(16, activation='relu'))\n",
    "model.add(Dense(10, activation='softmax'))\n",
    "\n",
    "model.compile(\n",
    "    optimizer='Adam',\n",
    "    loss='categorical_crossentropy',\n",
    "    metrics=['accuracy']\n",
    ")"
   ]
  },
  {
   "cell_type": "markdown",
   "metadata": {},
   "source": [
    "## training"
   ]
  },
  {
   "cell_type": "code",
   "execution_count": 8,
   "metadata": {
    "scrolled": true
   },
   "outputs": [
    {
     "name": "stdout",
     "output_type": "stream",
     "text": [
      "Train on 60000 samples, validate on 1000 samples\n",
      "Epoch 1/20\n",
      "60000/60000 [==============================] - 4s 64us/step - loss: 3.1529 - acc: 0.2089 - val_loss: 1.8660 - val_acc: 0.2920\n",
      "Epoch 2/20\n",
      "60000/60000 [==============================] - 3s 58us/step - loss: 1.8336 - acc: 0.3074 - val_loss: 1.6811 - val_acc: 0.3170\n",
      "Epoch 3/20\n",
      "60000/60000 [==============================] - 3s 58us/step - loss: 1.5637 - acc: 0.3889 - val_loss: 1.4163 - val_acc: 0.4570\n",
      "Epoch 4/20\n",
      "60000/60000 [==============================] - 4s 59us/step - loss: 1.3842 - acc: 0.4600 - val_loss: 1.1242 - val_acc: 0.5450\n",
      "Epoch 5/20\n",
      "60000/60000 [==============================] - 4s 59us/step - loss: 1.2197 - acc: 0.5255 - val_loss: 0.9892 - val_acc: 0.5950\n",
      "Epoch 6/20\n",
      "60000/60000 [==============================] - 4s 59us/step - loss: 1.0661 - acc: 0.5965 - val_loss: 0.8333 - val_acc: 0.7130\n",
      "Epoch 7/20\n",
      "60000/60000 [==============================] - 4s 64us/step - loss: 0.8690 - acc: 0.7084 - val_loss: 0.6290 - val_acc: 0.8030\n",
      "Epoch 8/20\n",
      "60000/60000 [==============================] - 4s 66us/step - loss: 0.7101 - acc: 0.7747 - val_loss: 0.5064 - val_acc: 0.8500\n",
      "Epoch 9/20\n",
      "60000/60000 [==============================] - 4s 62us/step - loss: 0.6182 - acc: 0.8061 - val_loss: 0.4463 - val_acc: 0.8770\n",
      "Epoch 10/20\n",
      "60000/60000 [==============================] - 4s 61us/step - loss: 0.5744 - acc: 0.8205 - val_loss: 0.4209 - val_acc: 0.8820\n",
      "Epoch 11/20\n",
      "60000/60000 [==============================] - 4s 62us/step - loss: 0.5457 - acc: 0.8309 - val_loss: 0.3670 - val_acc: 0.8940\n",
      "Epoch 12/20\n",
      "60000/60000 [==============================] - 4s 62us/step - loss: 0.5203 - acc: 0.8395 - val_loss: 0.3753 - val_acc: 0.8900\n",
      "Epoch 13/20\n",
      "60000/60000 [==============================] - 4s 61us/step - loss: 0.5103 - acc: 0.8417 - val_loss: 0.3257 - val_acc: 0.9120\n",
      "Epoch 14/20\n",
      "60000/60000 [==============================] - 4s 62us/step - loss: 0.4957 - acc: 0.8448 - val_loss: 0.3186 - val_acc: 0.9080\n",
      "Epoch 15/20\n",
      "60000/60000 [==============================] - 4s 62us/step - loss: 0.4940 - acc: 0.8469 - val_loss: 0.3234 - val_acc: 0.9110\n",
      "Epoch 16/20\n",
      "60000/60000 [==============================] - 4s 63us/step - loss: 0.4850 - acc: 0.8512 - val_loss: 0.3211 - val_acc: 0.9040\n",
      "Epoch 17/20\n",
      "60000/60000 [==============================] - 4s 62us/step - loss: 0.4740 - acc: 0.8517 - val_loss: 0.3240 - val_acc: 0.9020\n",
      "Epoch 18/20\n",
      "60000/60000 [==============================] - 4s 63us/step - loss: 0.4682 - acc: 0.8543 - val_loss: 0.3137 - val_acc: 0.9090\n",
      "Epoch 19/20\n",
      "60000/60000 [==============================] - 4s 63us/step - loss: 0.4698 - acc: 0.8532 - val_loss: 0.3270 - val_acc: 0.9080\n",
      "Epoch 20/20\n",
      "60000/60000 [==============================] - 4s 63us/step - loss: 0.4667 - acc: 0.8539 - val_loss: 0.3192 - val_acc: 0.9070\n"
     ]
    },
    {
     "data": {
      "text/plain": [
       "<keras.callbacks.History at 0x7ff1d42aeef0>"
      ]
     },
     "execution_count": 8,
     "metadata": {},
     "output_type": "execute_result"
    }
   ],
   "source": [
    "model.fit(\n",
    "    images_flat,\n",
    "    keras.utils.to_categorical(labels),\n",
    "    validation_data=(test_images[:1000], keras.utils.to_categorical(test_labels[:1000])),\n",
    "    batch_size=32,\n",
    "    epochs=20\n",
    ")"
   ]
  },
  {
   "cell_type": "code",
   "execution_count": 15,
   "metadata": {},
   "outputs": [
    {
     "name": "stdout",
     "output_type": "stream",
     "text": [
      "9000/9000 [==============================] - 0s 30us/step\n",
      "Accuracy on rest of test data: 0.92\n"
     ]
    }
   ],
   "source": [
    "_, acc = model.evaluate(test_images[1000:], keras.utils.to_categorical(test_labels[1000:]))\n",
    "print(f'Accuracy on rest of test data: {acc:.2f}')"
   ]
  },
  {
   "cell_type": "code",
   "execution_count": 18,
   "metadata": {},
   "outputs": [
    {
     "data": {
      "text/plain": [
       "<BarContainer object of 10 artists>"
      ]
     },
     "execution_count": 18,
     "metadata": {},
     "output_type": "execute_result"
    },
    {
     "data": {
      "image/png": "[encoded data removed]",
      "text/plain": [
       "<Figure size 432x288 with 2 Axes>"
      ]
     },
     "metadata": {
      "needs_background": "light"
     },
     "output_type": "display_data"
    }
   ],
   "source": [
    "from PIL import Image\n",
    "\n",
    "# load input image into array\n",
    "input_image = Image.open('input.bmp')\n",
    "array = np.array(input_image.getdata())[:,0]\n",
    "\n",
    "x = np.arange(10) # digits\n",
    "y = model.predict(array.reshape((1, 784))).reshape(10) # categorical output\n",
    "\n",
    "# Draw input image\n",
    "plt.subplot(121)\n",
    "plt.imshow(array.reshape((28, 28)), cmap='Greys_r')\n",
    "\n",
    "# Show output\n",
    "plt.subplot(122)\n",
    "plt.\n",
    "plt.xticks(x)\n",
    "plt.bar(x, y)"
   ]
  }
 ],
 "metadata": {
  "kernelspec": {
   "display_name": "Python 3",
   "language": "python",
   "name": "python3"
  },
  "language_info": {
   "codemirror_mode": {
    "name": "ipython",
    "version": 3
   },
   "file_extension": ".py",
   "mimetype": "text/x-python",
   "name": "python",
   "nbconvert_exporter": "python",
   "pygments_lexer": "ipython3",
   "version": "3.6.7"
  }
 },
 "nbformat": 4,
 "nbformat_minor": 2
}
